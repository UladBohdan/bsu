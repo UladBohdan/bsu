{
 "cells": [
  {
   "cell_type": "code",
   "execution_count": 1,
   "metadata": {
    "collapsed": false
   },
   "outputs": [
    {
     "data": {
      "image/png": "[encoded data removed]",
      "text/plain": [
       "<matplotlib.figure.Figure at 0x113efd710>"
      ]
     },
     "metadata": {},
     "output_type": "display_data"
    }
   ],
   "source": [
    "import skimage\n",
    "from skimage import data\n",
    "from skimage import io\n",
    "import numpy as np\n",
    "\n",
    "image = data.horse()\n",
    "image = np.invert(image)\n",
    "io.imshow(image)\n",
    "io.show()"
   ]
  },
  {
   "cell_type": "code",
   "execution_count": 2,
   "metadata": {
    "collapsed": true
   },
   "outputs": [],
   "source": [
    "from skimage.morphology import binary_erosion\n",
    "from skimage.morphology import binary_dilation\n",
    "\n",
    "# Helper methods.\n",
    "\n",
    "def CrossOperation(X, A, B):\n",
    "    er1 = binary_erosion(X, A)\n",
    "    er2 = binary_erosion(np.logical_not(X), B)\n",
    "    return np.logical_and(er1, er2)\n",
    "\n",
    "def MakeBolder(X, T1, T2):\n",
    "    return np.logical_or(X, CrossOperation(X, T1, T2))\n",
    "\n",
    "def MakeThinner(X, T1, T2):\n",
    "    return np.logical_and(X, np.logical_not(CrossOperation(X, T1, T2)))"
   ]
  },
  {
   "cell_type": "code",
   "execution_count": 3,
   "metadata": {
    "collapsed": false
   },
   "outputs": [
    {
     "name": "stdout",
     "output_type": "stream",
     "text": [
      "number of iterations to build convex hull:  436\n"
     ]
    },
    {
     "data": {
      "image/png": "[encoded data removed]",
      "text/plain": [
       "<matplotlib.figure.Figure at 0x1149fcba8>"
      ]
     },
     "metadata": {},
     "output_type": "display_data"
    }
   ],
   "source": [
    "# Building convex hull.\n",
    "\n",
    "im = image.copy()\n",
    "iterations = 0\n",
    "\n",
    "while True:\n",
    "    snapshot = im.copy()\n",
    "    iterations += 1\n",
    "    TA = np.array([[True, True, True],\n",
    "                   [False, False, True],\n",
    "                   [False, False, False]])\n",
    "    TB = np.array([[False, False, False],\n",
    "                   [False, True, False],\n",
    "                   [False, False, False]])\n",
    "    for i in range(0, 4):\n",
    "        im = MakeBolder(im, TA, TB)\n",
    "        TA = np.rot90(TA)\n",
    "    TA = np.array([[True, True, True],\n",
    "                   [True, False, False],\n",
    "                   [False, False, False]])\n",
    "    for i in range(0, 4):\n",
    "        im = MakeBolder(im, TA, TB)\n",
    "        TA = np.rot90(TA)\n",
    "    if (snapshot == im).all():\n",
    "        break\n",
    "        \n",
    "print(\"number of iterations to build convex hull: \", iterations)\n",
    "\n",
    "io.imshow(im)\n",
    "io.show()"
   ]
  },
  {
   "cell_type": "code",
   "execution_count": 4,
   "metadata": {
    "collapsed": false,
    "scrolled": false
   },
   "outputs": [
    {
     "name": "stdout",
     "output_type": "stream",
     "text": [
      "number of iterations to build a skeleton:  58\n"
     ]
    },
    {
     "name": "stderr",
     "output_type": "stream",
     "text": [
      "/usr/local/lib/python3.6/site-packages/skimage/io/_plugins/matplotlib_plugin.py:74: UserWarning: Low image data range; displaying image with stretched contrast.\n",
      "  warn(\"Low image data range; displaying image with \"\n"
     ]
    },
    {
     "data": {
      "image/png": "[encoded data removed]",
      "text/plain": [
       "<matplotlib.figure.Figure at 0x114a0e550>"
      ]
     },
     "metadata": {},
     "output_type": "display_data"
    }
   ],
   "source": [
    "# Building a skeleton.\n",
    "\n",
    "im = image.copy()\n",
    "iterations = 0\n",
    "\n",
    "while True:\n",
    "    snapshot = im.copy()\n",
    "    iterations += 1\n",
    "    TA = np.array([[True, True, True],\n",
    "                   [False, True, False],\n",
    "                   [False, False, False]])\n",
    "    TB = np.array([[False, False, False],\n",
    "                   [False, False, False],\n",
    "                   [True, True, True]])\n",
    "    for i in range(0, 4):\n",
    "        im = MakeThinner(im, TA, TB)\n",
    "        TA = np.rot90(TA)\n",
    "        TB = np.rot90(TB)\n",
    "    TA = np.array([[False, True, False],\n",
    "                   [False, True, True],\n",
    "                   [False, False, False]])\n",
    "    TB = np.array([[False, False, False],\n",
    "                   [True, False, False],\n",
    "                   [True, True, False]])\n",
    "    for i in range(0, 4):\n",
    "        im = MakeThinner(im, TA, TB)\n",
    "        TA = np.rot90(TA)\n",
    "        TB = np.rot90(TB)\n",
    "    if (snapshot == im).all():\n",
    "        break\n",
    "        \n",
    "print(\"number of iterations to build a skeleton: \", iterations)\n",
    "\n",
    "io.imshow(im)\n",
    "io.show()"
   ]
  },
  {
   "cell_type": "code",
   "execution_count": null,
   "metadata": {
    "collapsed": true
   },
   "outputs": [],
   "source": []
  }
 ],
 "metadata": {
  "kernelspec": {
   "display_name": "Python 3",
   "language": "python",
   "name": "python3"
  },
  "language_info": {
   "codemirror_mode": {
    "name": "ipython",
    "version": 3
   },
   "file_extension": ".py",
   "mimetype": "text/x-python",
   "name": "python",
   "nbconvert_exporter": "python",
   "pygments_lexer": "ipython3",
   "version": "3.6.3"
  }
 },
 "nbformat": 4,
 "nbformat_minor": 1
}
